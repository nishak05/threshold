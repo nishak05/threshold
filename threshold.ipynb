{
  "nbformat": 4,
  "nbformat_minor": 0,
  "metadata": {
    "colab": {
      "provenance": []
    },
    "kernelspec": {
      "name": "python3",
      "display_name": "Python 3"
    },
    "language_info": {
      "name": "python"
    }
  },
  "cells": [
    {
      "cell_type": "code",
      "execution_count": null,
      "metadata": {
        "id": "VpiKJ-76N-03"
      },
      "outputs": [],
      "source": [
        "import cv2"
      ]
    },
    {
      "cell_type": "code",
      "source": [
        "img=cv2.imread('building.jpg')\n",
        "img_gray=cv2.cvtColor(img, cv2.COLOR_BGR2GRAY)\n",
        "\n",
        "ret, thresh=cv2.threshold(img_gray,80,255, cv2.THRESH_BINARY)"
      ],
      "metadata": {
        "id": "CXfGknsAOCZ3"
      },
      "execution_count": null,
      "outputs": []
    },
    {
      "cell_type": "code",
      "source": [
        "cv2.imshow('img',img)\n",
        "cv2.imshow('img_gray',img_gray)\n",
        "cv2.imshow('thresh',thresh)\n",
        "cv2.waitKey(0)"
      ],
      "metadata": {
        "id": "iiQ-YhKIOFlV"
      },
      "execution_count": null,
      "outputs": []
    }
  ]
}